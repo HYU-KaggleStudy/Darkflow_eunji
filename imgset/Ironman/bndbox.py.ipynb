{
 "cells": [
  {
   "cell_type": "code",
   "execution_count": 2,
   "metadata": {},
   "outputs": [],
   "source": [
    "import numpy as np\n",
    "import cv2\n",
    "\n",
    "# readdata from groundtruth\n",
    "fr= open(\"groundtruth_rect.txt\", \"r\")\n",
    "\n",
    "for i in range(166):\n",
    "    img_name=\"%04d\" % (i+1)\n",
    "    \n",
    "    fw= open(\"/home/cvlab-common/eunji/darkflow_eunji/imgset/Ironman/annotations/\"+img_name+\".xml\", 'w')\n",
    "\n",
    "    an= \"<annotation>\\n\"\n",
    "    fw.write(an)\n",
    "    filena= \"<filename>\" + img_name + \".jpg</filename>\\n\" \n",
    "    fw.write(filena)\n",
    "    \n",
    "    img= cv2.imread(\"/home/cvlab-common/eunji/darkflow_eunji/imgset/Ironman/img/\"+img_name+\".jpg\")\n",
    "    size= \"<size>\\n\"+\"<width>%d</width>\\n\" % img.shape[1] + \"<height>%d</height>\\n\" % img.shape[0] + \"</size>\\n\"\n",
    "    fw.write(size)\n",
    "    \n",
    "    line = fr.readline()\n",
    "    a= line.split(',')\n",
    "    a= list(map(int, a))\n",
    "    obj= \"<object>\\n<name>person</name>\\n<bndbox>\\n<xmin>\"+str(a[0])+\"</xmin>\\n\"+\"<ymin>\"+str(a[1])+\"</ymin>\\n\"+\"<xmax>\"+str(a[0]+(a[2]))+\"</xmax>\\n\"+\"<ymax>\"+str(a[1]+a[3])+\"</ymax>\\n</bndbox>\\n</object>\"\n",
    "    fw.write(obj)\n",
    "    \n",
    "    an=\"</annotation>\"\n",
    "    fw.write(an)\n",
    "    "
   ]
  },
  {
   "cell_type": "code",
   "execution_count": null,
   "metadata": {},
   "outputs": [],
   "source": []
  }
 ],
 "metadata": {
  "kernelspec": {
   "display_name": "Python 3",
   "language": "python",
   "name": "python3"
  },
  "language_info": {
   "codemirror_mode": {
    "name": "ipython",
    "version": 3
   },
   "file_extension": ".py",
   "mimetype": "text/x-python",
   "name": "python",
   "nbconvert_exporter": "python",
   "pygments_lexer": "ipython3",
   "version": "3.5.2"
  }
 },
 "nbformat": 4,
 "nbformat_minor": 2
}
