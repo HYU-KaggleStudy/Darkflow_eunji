{
 "cells": [
  {
   "cell_type": "code",
   "execution_count": null,
   "metadata": {},
   "outputs": [],
   "source": [
    "import numpy as np\n",
    "import cv2\n",
    "from random import randint\n",
    "\n",
    "# readdata from groundtruth\n",
    "fr= open(\"groundtruth_rect.txt\", \"r\")\n",
    "\n",
    "for i in range(166):\n",
    "    img_name=\"%04d\" % (i+1)\n",
    "    \n",
    "    fw= open(\"/home/cvlab-common/eunji/darkflow_eunji/imgset/Football/annotations_negative/\"+img_name+\".xml\", 'w')\n",
    "\n",
    "    an= \"<annotation>\\n\"\n",
    "    fw.write(an)\n",
    "    filena= \"<filename>\" + img_name + \".jpg</filename>\\n\" \n",
    "    fw.write(filena)\n",
    "    \n",
    "    img= cv2.imread(\"/home/cvlab-common/eunji/darkflow_eunji/imgset/Football/img/\"+img_name+\".jpg\")\n",
    "    size= \"<size>\\n\"+\"<width>%d</width>\\n\" % img.shape[1] + \"<height>%d</height>\\n\" % img.shape[0] + \"</size>\\n\"\n",
    "    fw.write(size)\n",
    "    \n",
    "    line = fr.readline()\n",
    "    a= line.split(',')\n",
    "    a= list(map(int, a))\n",
    "    obj= \"<object>\\n<name>person</name>\\n<bndbox>\\n<xmin>\"+str(a[0])+\"</xmin>\\n\"+\"<ymin>\"+str(a[1])+\"</ymin>\\n\"+\"<xmax>\"+str(a[0]+(a[2]))+\"</xmax>\\n\"+\"<ymax>\"+str(a[1]+a[3])+\"</ymax>\\n</bndbox>\\n</object>\"\n",
    "    fw.write(obj)\n",
    "    \n",
    "    if(a[0]-1 >=0 ):\n",
    "        obj= \"<object>\\n<name>person</name>\\n<bndbox>\\n<xmin>\"+str(a[0]-1)+\"</xmin>\\n\"+\"<ymin>\"+str(a[1])+\"</ymin>\\n\"+\"<xmax>\"+str(a[0]+a[2]-1)+\"</xmax>\\n\"+\"<ymax>\"+str(a[1]+a[3])+\"</ymax>\\n</bndbox>\\n</object>\"\n",
    "        fw.write(obj)\n",
    "    if(a[0]+a[2]+1 <= img.shape[1]):  \n",
    "        obj= \"<object>\\n<name>person</name>\\n<bndbox>\\n<xmin>\"+str(a[0]+1)+\"</xmin>\\n\"+\"<ymin>\"+str(a[1])+\"</ymin>\\n\"+\"<xmax>\"+str(a[0]+a[2]+1)+\"</xmax>\\n\"+\"<ymax>\"+str(a[1]+a[3])+\"</ymax>\\n</bndbox>\\n</object>\"\n",
    "        fw.write(obj)\n",
    "    if(a[1]-1 >=0 ):\n",
    "        obj= \"<object>\\n<name>person</name>\\n<bndbox>\\n<xmin>\"+str(a[0])+\"</xmin>\\n\"+\"<ymin>\"+str(a[1]-1)+\"</ymin>\\n\"+\"<xmax>\"+str(a[0]+a[2])+\"</xmax>\\n\"+\"<ymax>\"+str(a[1]+a[3]-1)+\"</ymax>\\n</bndbox>\\n</object>\"\n",
    "        fw.write(obj)\n",
    "    if(a[1]+a[3]+1 <= img.shape[0]):\n",
    "        obj= \"<object>\\n<name>person</name>\\n<bndbox>\\n<xmin>\"+str(a[0])+\"</xmin>\\n\"+\"<ymin>\"+str(a[1]+1)+\"</ymin>\\n\"+\"<xmax>\"+str(a[0]+a[2])+\"</xmax>\\n\"+\"<ymax>\"+str(a[1]+a[3]+1)+\"</ymax>\\n</bndbox>\\n</object>\"\n",
    "        fw.write(obj)\n",
    "    \n",
    "    x=0\n",
    "    while(x<6):\n",
    "        xmin= randint(1, img.shape[1])\n",
    "        xmax= randint(xmin, img.shape[1])\n",
    "        ymin= randint(1, img.shape[0])\n",
    "        ymax= randint(ymin, img.shape[0])\n",
    "        if (a[0]<xmin<a[0]+a[2] or a[0]<xmax<a[0]+a[2]) and (a[1]<ymin<a[1]+a[3] or a[1]<ymax<a[1]+a[3]):\n",
    "            continue\n",
    "        else :\n",
    "            x=x+1\n",
    "            obj= \"<object>\\n<name>target_negative</name>\\n<bndbox>\\n<xmin>\"+str(xmin)+\"</xmin>\\n\"+\"<ymin>\"+str(ymin)+\"</ymin>\\n\"+\"<xmax>\"+str(xmax)+\"</xmax>\\n\"+\"<ymax>\"+str(ymax)+\"</ymax>\\n</bndbox>\\n</object>\"\n",
    "            fw.write(obj)\n",
    "    \n",
    "    an=\"</annotation>\"\n",
    "    fw.write(an)\n",
    "    "
   ]
  }
 ],
 "metadata": {
  "kernelspec": {
   "display_name": "Python 3",
   "language": "python",
   "name": "python3"
  },
  "language_info": {
   "codemirror_mode": {
    "name": "ipython",
    "version": 3
   },
   "file_extension": ".py",
   "mimetype": "text/x-python",
   "name": "python",
   "nbconvert_exporter": "python",
   "pygments_lexer": "ipython3",
   "version": "3.5.2"
  }
 },
 "nbformat": 4,
 "nbformat_minor": 2
}
